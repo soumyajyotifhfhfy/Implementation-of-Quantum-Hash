{
  "cells": [
    {
      "cell_type": "code",
      "execution_count": null,
      "metadata": {
        "colab": {
          "background_save": true,
          "base_uri": "https://localhost:8080/"
        },
        "id": "TlTa5zUz55-6",
        "outputId": "6315c6fc-8112-4f3e-9e1f-51d2ac808fee"
      },
      "outputs": [
        {
          "name": "stdout",
          "output_type": "stream",
          "text": [
            "Welcome to the Binary Calculator!\n",
            "\n",
            "Operations:\n",
            "1. Addition\n",
            "2. Subtraction\n",
            "3. Multiplication\n",
            "4. Division\n",
            "5. Exit\n",
            "Result: b1001010000101100101110101000111011111001000011110001010101011110000010000110110000000110100101000110001011100101001001100110000110001010000111110011100101001000101000000100000101010110011010011111010011001100000010101100001101011110110100011011001101011100\n",
            "\n",
            "Operations:\n",
            "1. Addition\n",
            "2. Subtraction\n",
            "3. Multiplication\n",
            "4. Division\n",
            "5. Exit\n",
            "Result: b100\n",
            "\n",
            "Operations:\n",
            "1. Addition\n",
            "2. Subtraction\n",
            "3. Multiplication\n",
            "4. Division\n",
            "5. Exit\n"
          ]
        }
      ],
      "source": [
        "def binary_addition(bin1, bin2):\n",
        "    return bin(bin1 + bin2)[2:]\n",
        "\n",
        "def binary_subtraction(bin1, bin2):\n",
        "    return bin(bin1 - bin2)[2:]\n",
        "\n",
        "def binary_multiplication(bin1, bin2):\n",
        "    return bin(bin1 * bin2)[2:]\n",
        "\n",
        "def binary_division(bin1, bin2):\n",
        "    return bin(bin1 // bin2)[2:]\n",
        "\n",
        "def get_binary_input():\n",
        "    binary_input = input(\"Enter a binary number: \")\n",
        "    return int(binary_input, 2)\n",
        "\n",
        "def main():\n",
        "    print(\"Welcome to the Binary Calculator!\")\n",
        "    while True:\n",
        "        print(\"\\nOperations:\")\n",
        "        print(\"1. Addition\")\n",
        "        print(\"2. Subtraction\")\n",
        "        print(\"3. Multiplication\")\n",
        "        print(\"4. Division\")\n",
        "        print(\"5. Exit\")\n",
        "\n",
        "        choice = input(\"Enter your choice (1-5): \")\n",
        "\n",
        "        if choice == '5':\n",
        "            print(\"Thank you for using the Binary Calculator. Goodbye!\")\n",
        "            break\n",
        "\n",
        "        num1 = get_binary_input()\n",
        "        num2 = get_binary_input()\n",
        "\n",
        "        if choice == '1':\n",
        "            print(\"Result:\", binary_addition(num1, num2))\n",
        "        elif choice == '2':\n",
        "            print(\"Result:\", binary_subtraction(num1, num2))\n",
        "        elif choice == '3':\n",
        "            print(\"Result:\", binary_multiplication(num1, num2))\n",
        "        elif choice == '4':\n",
        "            if num2 == 0:\n",
        "                print(\"Error: Division by zero\")\n",
        "            else:\n",
        "                print(\"Result:\", binary_division(num1, num2))\n",
        "        else:\n",
        "            print(\"Invalid choice. Please enter a number between 1 and 5.\")\n",
        "\n",
        "if __name__ == \"__main__\":\n",
        "    main()\n"
      ]
    }
  ],
  "metadata": {
    "colab": {
      "provenance": []
    },
    "kernelspec": {
      "display_name": "Python 3",
      "name": "python3"
    },
    "language_info": {
      "name": "python"
    }
  },
  "nbformat": 4,
  "nbformat_minor": 0
}